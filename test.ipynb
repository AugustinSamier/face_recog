{
 "cells": [
  {
   "cell_type": "code",
   "execution_count": 1,
   "id": "065c9ce7",
   "metadata": {},
   "outputs": [],
   "source": [
    "import numpy as np\n",
    "import os\n",
    "import cv2\n",
    "import torch\n",
    "import torch.nn as nn\n",
    "import torch.nn.functional as F\n",
    "from math import sqrt"
   ]
  },
  {
   "cell_type": "code",
   "execution_count": 2,
   "id": "cb23f459",
   "metadata": {},
   "outputs": [],
   "source": [
    "def extract_data(path,create_test=None):\n",
    "    X_train=[]\n",
    "    y_train=[]\n",
    "    X_test=[]\n",
    "    y_test=[]\n",
    "\n",
    "    file=os.listdir(path)\n",
    "\n",
    "    for entity in file:\n",
    "        try:\n",
    "            entityPath=os.listdir(f\"{path}/{entity}\")\n",
    "            for i,data in enumerate(entityPath):\n",
    "                try:\n",
    "                    current_img=cv2.imread(f\"{path}/{entity}/{data}\")\n",
    "                    if current_img is not None:\n",
    "                        if (create_test is not None and ((len(entityPath)>1) and (i==0))):\n",
    "                            X_test.append(current_img)\n",
    "                            y_test.append(entity)\n",
    "                        else:\n",
    "                            X_train.append(current_img)\n",
    "                            y_train.append(entity)\n",
    "                    else:\n",
    "                        print(f\"{path}/{entity}/{data} is None type\")\n",
    "                except Exception as e:\n",
    "                    print(f\"Erreur avec {path}/{entity}/{data} : {e}\")\n",
    "        except Exception as ex:\n",
    "            print(f\"Erreur avec {path}/{entity} : {ex}\")\n",
    "    \n",
    "    if create_test is not None:\n",
    "        return X_train,y_train,X_test,y_test\n",
    "    else:\n",
    "        return X_train,y_train"
   ]
  },
  {
   "cell_type": "code",
   "execution_count": 3,
   "id": "12b56c21",
   "metadata": {},
   "outputs": [],
   "source": [
    "def imgProcess(img,withTorch=None):\n",
    "    if not isinstance(img,np.ndarray):\n",
    "        print(\"convertion de l'img\")\n",
    "        img=cv2.imread(img)\n",
    "    img=cv2.cvtColor(img,cv2.COLOR_BGR2GRAY) #RGB -> Gray -> dim(255,255,3)=255*255*3 val de couleur = 195075 vals -> dim(255,255,1) -> 255*255*1 val de couleur = 65025 vals pour l'exemple du 255*255\n",
    "    img=cv2.resize(img,(100,100)) #dim -> dim(100,100,1) -> 100*100*1 = 10000 val de couleur\n",
    "    if withTorch is None:\n",
    "        img=img.flatten() #2D -> 1D vec de (10000,1)\n",
    "    else:\n",
    "        img=img.astype(np.float32)/255.0 #rescale entre 0 et 1\n",
    "        img=img[np.newaxis,:,:] #ajout d'une dimension pour la couleur\n",
    "        img=torch.tensor(img).unsqueeze(0) #ajout de la dimension de batch necessaire pour pytorch\n",
    "    return img"
   ]
  },
  {
   "cell_type": "code",
   "execution_count": 4,
   "id": "c7cbfc20",
   "metadata": {},
   "outputs": [],
   "source": [
    "def distEuclid(img1,img2): #p1(a1,a2,a3...,a10000) p2(b1,b2,b3...,b10000) car chaque image a 10000 val de couleur\n",
    "    #img1 = img1.astype(np.int32) #pour avoir des valeur négatives sinon en uint8 c'est de 0 à 255 (pas negatif)\n",
    "    #img2 = img2.astype(np.int32)\n",
    "    diff=img1.astype(np.int32)-img2.astype(np.int32) #opti\n",
    "\n",
    "    #distance euclidienne entre deux points (en 2D) p1(x1,y1) et p2(x2,y2): d=hypothénuse du triangle rectangle\n",
    "    #ainsi d²=a²+b² et d=sqrt(a²+b²) avec a=abs(x1-x2) et b=abs(y1-y2) DONC -> d=sqrt((x1-x2)²+(y1-y2)²)\n",
    "    #en n dim : d=sqrt((a1-b1)²+(a2-b2)²...+(an-bn)²) = sqrt(sum[1;N]((a-b)²))\n",
    "    #return sqrt(sum((a-b)**2 for a,b in zip(img1,img2))) #zip -> pour deux listes\n",
    "    return np.sqrt(np.sum(diff**2)) #opti"
   ]
  },
  {
   "cell_type": "code",
   "execution_count": 5,
   "id": "7dcc79c3",
   "metadata": {},
   "outputs": [],
   "source": [
    "def knn_predict(X_train,y_train, newImg,k):\n",
    "    distances=[]\n",
    "    for i in range(len(X_train)):\n",
    "        dist=distEuclid(X_train[i],newImg) #on calcule la distance entre la nouvelle image et toutes les autres images\n",
    "        distances.append((dist,y_train[i])) #on stock la distance avec le label de chaque image à laquelle on a calculé la distance\n",
    "    \n",
    "    distances.sort(key=lambda x: x[0]) #on trie la liste de distances dans l'ordre croissant comme ça les derniers termes sont les plus proche de la nouvelle image\n",
    "    k_voisins=distances[:k] #on prend les k plus proches voisins\n",
    "\n",
    "    counts={} #dictionnaire pour compter les labels les plus proches et leur occurences\n",
    "    for _,label in k_voisins: #dans le tableau c'est [distance,label], ici on veut que le label donc _\n",
    "        counts[label]=counts.get(label,0)+1 #.get(a,b) = prend la val a si existe sinon prend la val b\n",
    "\n",
    "    return max(counts,key=counts.get) #compare les valeurs mais renvoie le label du dictionnaire"
   ]
  },
  {
   "cell_type": "code",
   "execution_count": 6,
   "id": "6edd2311",
   "metadata": {},
   "outputs": [],
   "source": [
    "def knn_evaluate(processed_train,y_train,processed_test,y_test,k,n):\n",
    "    knn_results=[]\n",
    "    true=0\n",
    "    if n is None:\n",
    "        n=len(processed_test)\n",
    "\n",
    "    print(f\"Number of sample set to : {n}\")\n",
    "    \n",
    "    for i,img in enumerate(processed_test[:n]):\n",
    "        print(f\"Image KNN : {i}\")\n",
    "        knn_results.append(knn_predict(processed_train,y_train,processed_test[i],k))\n",
    "        if knn_results[i]==y_test[i]:\n",
    "            true+=1\n",
    "    print(f\"Accuracy (%) : {100*true/n}\")\n",
    "\n",
    "    return knn_results"
   ]
  },
  {
   "cell_type": "code",
   "execution_count": 7,
   "id": "5a05402f",
   "metadata": {},
   "outputs": [],
   "source": [
    "def KNN(X_train,y_train,X_test,y_test,k=3,n=None):\n",
    "    processed_train=[]\n",
    "    for img in X_train:\n",
    "        processed_train.append(imgProcess(img))\n",
    "\n",
    "    processed_test=[]\n",
    "    for img in X_test:\n",
    "        processed_test.append(imgProcess(img))\n",
    "    print(\"Processing done.\\n\")\n",
    "\n",
    "    knn_result=knn_evaluate(processed_train,y_train,processed_test,y_test,k,n)\n",
    "    return knn_result"
   ]
  },
  {
   "cell_type": "code",
   "execution_count": 8,
   "id": "79fb2e4f",
   "metadata": {},
   "outputs": [],
   "source": [
    "def imgPadding(img,padding):\n",
    "    size=img.shape[0]\n",
    "    if padding is not None:\n",
    "        size=size+2*padding\n",
    "        newImg=np.zeros((size,size,3),dtype=np.uint8)\n",
    "        for x in range(padding,size-padding):\n",
    "            for y in range(padding,size-padding):\n",
    "                newImg[x][y]=img[x-padding][y-padding]\n",
    "    else:\n",
    "        newImg=img\n",
    "    return newImg"
   ]
  },
  {
   "cell_type": "code",
   "execution_count": 9,
   "id": "4366c5cc",
   "metadata": {},
   "outputs": [],
   "source": [
    "def max_pooling(img,dim=2,padding=None,stride=1):\n",
    "    if padding is not None:\n",
    "        img=imgPadding(img,padding)\n",
    "    \n",
    "    newDim=((img.shape[0]-dim)//stride)+1\n",
    "    newImg=np.zeros([newDim,newDim,3])\n",
    "    \n",
    "    for rgb in range(img.shape[2]):\n",
    "        for x in range(0,(img.shape[0]//dim)*dim,stride):\n",
    "            for y in range(0,(img.shape[0]//dim)*dim,stride):\n",
    "                max=0\n",
    "                for h in range(dim):\n",
    "                    for l in range(dim):\n",
    "                        if img[x+l][y+h][rgb]>max:\n",
    "                            max=img[x+l][y+h][rgb]\n",
    "                newImg[((x-dim)//stride)+1][((y-dim)//stride)+1][rgb]=max\n",
    "    \n",
    "    return newImg"
   ]
  },
  {
   "cell_type": "code",
   "execution_count": 10,
   "id": "3c230e0d",
   "metadata": {},
   "outputs": [],
   "source": [
    "def average_pooling(img,dim=2,padding=None,stride=1):\n",
    "    if padding is not None:\n",
    "        img=imgPadding(img,padding)\n",
    "    \n",
    "    newDim=((img.shape[0]-dim)//stride)+1\n",
    "    newImg=np.zeros([newDim,newDim,3])\n",
    "    \n",
    "    for rgb in range(img.shape[2]):\n",
    "        for x in range(0,(img.shape[0]//dim)*dim,stride):\n",
    "            for y in range(0,(img.shape[0]//dim)*dim,stride):\n",
    "                somme=0\n",
    "                for h in range(dim):\n",
    "                    for l in range(dim):\n",
    "                        somme+=img[x+l][y+h][rgb]\n",
    "                newImg[((x-dim)//stride)+1][((y-dim)//stride)+1][rgb]=somme//dim*dim\n",
    "    \n",
    "    return newImg"
   ]
  },
  {
   "cell_type": "code",
   "execution_count": 14,
   "id": "bce79b49",
   "metadata": {},
   "outputs": [],
   "source": [
    "def make_model(nb_classes):\n",
    "    model=nn.Sequential(\n",
    "        nn.Conv2d(1,16,kernel_size=3,padding=1), #(1,100,100) -> (16,100,100)\n",
    "        nn.ReLU(),\n",
    "        nn.MaxPool2d(2,2), #(16,100,100) -> ((100-2)//2)+1 = 49+1 = 50 donc -> (16,50,50)\n",
    "        nn.Conv2d(16,32,kernel_size=3,padding=1), #(16,50,50) -> (32,50,50)\n",
    "        nn.ReLU(),\n",
    "        nn.MaxPool2d(2,2), #(32,50,50) -> ((50-2)//2)+1 = 25 -> (32,25,25)\n",
    "        nn.Flatten(), #(32,25,25) -> (32*25*25) = (20000)\n",
    "        #nn.Dropout(0.3) #pour éviter l'overfitting\n",
    "        nn.Linear(20000,128),\n",
    "        nn.ReLU(),\n",
    "        nn.Linear(128,nb_classes)\n",
    "    )\n",
    "    return model"
   ]
  },
  {
   "cell_type": "code",
   "execution_count": 15,
   "id": "502884af",
   "metadata": {},
   "outputs": [],
   "source": [
    "def CNN(X_train,y_train,X_test,y_test,model=None):\n",
    "    if model is None:\n",
    "        model=make_model(len(list(set(y_train)))) #list(set(y_train)) sort les val uniques"
   ]
  },
  {
   "cell_type": "code",
   "execution_count": 16,
   "id": "bfcaf8f1",
   "metadata": {},
   "outputs": [
    {
     "name": "stdout",
     "output_type": "stream",
     "text": [
      "Sequential(\n",
      "  (0): Conv2d(1, 16, kernel_size=(3, 3), stride=(1, 1), padding=(1, 1))\n",
      "  (1): ReLU()\n",
      "  (2): MaxPool2d(kernel_size=2, stride=2, padding=0, dilation=1, ceil_mode=False)\n",
      "  (3): Conv2d(16, 32, kernel_size=(3, 3), stride=(1, 1), padding=(1, 1))\n",
      "  (4): ReLU()\n",
      "  (5): MaxPool2d(kernel_size=2, stride=2, padding=0, dilation=1, ceil_mode=False)\n",
      "  (6): Flatten(start_dim=1, end_dim=-1)\n",
      "  (7): Linear(in_features=20000, out_features=128, bias=True)\n",
      "  (8): ReLU()\n",
      "  (9): Linear(in_features=128, out_features=2, bias=True)\n",
      ")\n"
     ]
    }
   ],
   "source": [
    "print(make_model(2))"
   ]
  },
  {
   "cell_type": "code",
   "execution_count": 24,
   "id": "b06c37ac",
   "metadata": {},
   "outputs": [
    {
     "name": "stdout",
     "output_type": "stream",
     "text": [
      "0 : Predict: Augustin, reel: Augustin\n",
      "1 : Predict: Augustin, reel: Augustin\n",
      "2 : Predict: Augustin, reel: Augustin\n",
      "3 : Predict: Augustin, reel: Augustin\n",
      "4 : Predict: Augustin, reel: Macha\n"
     ]
    }
   ],
   "source": [
    "for i,img in enumerate(knn_results):\n",
    "    print(f\"{i} : Predict: {img}, reel: {y_test[i]}\")"
   ]
  }
 ],
 "metadata": {
  "kernelspec": {
   "display_name": "Python 3 (ipykernel)",
   "language": "python",
   "name": "python3"
  },
  "language_info": {
   "codemirror_mode": {
    "name": "ipython",
    "version": 3
   },
   "file_extension": ".py",
   "mimetype": "text/x-python",
   "name": "python",
   "nbconvert_exporter": "python",
   "pygments_lexer": "ipython3",
   "version": "3.10.17"
  }
 },
 "nbformat": 4,
 "nbformat_minor": 5
}
