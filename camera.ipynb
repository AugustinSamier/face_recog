{
 "cells": [
  {
   "cell_type": "code",
   "execution_count": 2,
   "id": "0d150a84",
   "metadata": {},
   "outputs": [],
   "source": [
    "import cv2\n",
    "import numpy as np\n",
    "face_cascade = cv2.CascadeClassifier(cv2.data.haarcascades + 'haarcascade_frontalface_default.xml')"
   ]
  },
  {
   "cell_type": "code",
   "execution_count": 18,
   "id": "960eae59",
   "metadata": {},
   "outputs": [],
   "source": [
    "def extract_face(img):\n",
    "    if not isinstance(img,np.ndarray):\n",
    "        img=cv2.imread(img) #si on passe un path ça read l'img\n",
    "\n",
    "    faces=face_cascade.detectMultiScale(\n",
    "        img,\n",
    "        scaleFactor=1.1,\n",
    "        minNeighbors=5,\n",
    "        minSize=(60,60)\n",
    "    )\n",
    "\n",
    "    if len(faces)==0:\n",
    "        return [[0,0,0,0]]\n",
    "\n",
    "    return faces"
   ]
  },
  {
   "cell_type": "code",
   "execution_count": 19,
   "id": "c305ed87",
   "metadata": {},
   "outputs": [
    {
     "name": "stdout",
     "output_type": "stream",
     "text": [
      "Program exited\n"
     ]
    }
   ],
   "source": [
    "capture=cv2.VideoCapture(0,cv2.CAP_DSHOW)\n",
    "\n",
    "if not capture.isOpened():\n",
    "    print(\"Erreur : Impossible d'ouvrir la webcam\")\n",
    "else:\n",
    "    while True:\n",
    "        ret,frame=capture.read()\n",
    "\n",
    "        if not ret:\n",
    "            break\n",
    "\n",
    "        frame=cv2.rotate(frame,cv2.ROTATE_90_CLOCKWISE)\n",
    "        faces=extract_face(frame)\n",
    "        for i,face in enumerate(faces):\n",
    "            x,y,w,h=face\n",
    "            cv2.rectangle(frame,(x,y),(x+w,y+h),(0,255,255),3)\n",
    "\n",
    "        cv2.imshow(\"Webcam\",frame)\n",
    "        if cv2.waitKey(1) & 0xFF==ord(\"q\"):\n",
    "            break\n",
    "\n",
    "capture.release()\n",
    "cv2.destroyAllWindows()\n",
    "print(\"Program exited\")"
   ]
  }
 ],
 "metadata": {
  "kernelspec": {
   "display_name": "base",
   "language": "python",
   "name": "python3"
  },
  "language_info": {
   "codemirror_mode": {
    "name": "ipython",
    "version": 3
   },
   "file_extension": ".py",
   "mimetype": "text/x-python",
   "name": "python",
   "nbconvert_exporter": "python",
   "pygments_lexer": "ipython3",
   "version": "3.12.4"
  }
 },
 "nbformat": 4,
 "nbformat_minor": 5
}
