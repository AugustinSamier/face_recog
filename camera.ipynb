{
 "cells": [
  {
   "cell_type": "code",
   "execution_count": 2,
   "id": "0d150a84",
   "metadata": {},
   "outputs": [],
   "source": [
    "import cv2\n",
    "import numpy as np\n",
    "import os\n",
    "import torch\n",
    "import torch.nn as nn\n",
    "import torchvision.models as models\n",
    "from sklearn.model_selection import train_test_split\n",
    "import copy\n",
    "from PIL import Image\n",
    "from collections import defaultdict\n",
    "import matplotlib.pyplot as plt\n",
    "import torchvision.transforms as transforms\n",
    "from torch.utils.data import TensorDataset, DataLoader,Dataset\n",
    "\n",
    "face_cascade = cv2.CascadeClassifier(cv2.data.haarcascades + 'haarcascade_frontalface_default.xml')\n",
    "eye_cascade = cv2.CascadeClassifier(cv2.data.haarcascades + 'haarcascade_eye.xml')\n",
    "mouth_cascade = cv2.CascadeClassifier(cv2.data.haarcascades + 'haarcascade_mcs_mouth.xml')"
   ]
  },
  {
   "cell_type": "code",
   "execution_count": 19,
   "id": "c79c6304",
   "metadata": {},
   "outputs": [],
   "source": [
    "def extract_face(img):\n",
    "    if not isinstance(img,np.ndarray):\n",
    "        img=cv2.imread(img) #si on passe un path ça read l'img\n",
    "\n",
    "    gray=cv2.cvtColor(img,cv2.COLOR_BGR2GRAY)\n",
    "    faces=face_cascade.detectMultiScale(\n",
    "        gray,\n",
    "        scaleFactor=1.1,\n",
    "        minNeighbors=6,\n",
    "        minSize=(60,60)\n",
    "    )\n",
    "\n",
    "    realFaces=[]\n",
    "    if len(faces)==0:\n",
    "        return []\n",
    "    else:\n",
    "        for k,face in enumerate(faces):\n",
    "            x,y,w,h=face\n",
    "            eyes=eye_cascade.detectMultiScale(gray[y:y+h,x:x+w])\n",
    "            #mouth=mouth_cascade.detectMultiScale(gray[y:y+h,x:x+w])\n",
    "\n",
    "            if len(eyes)>=2:\n",
    "                realFaces.append(face)\n",
    "\n",
    "    return realFaces"
   ]
  },
  {
   "cell_type": "code",
   "execution_count": 9,
   "id": "2a40c2ef",
   "metadata": {},
   "outputs": [],
   "source": [
    "transform = transforms.Compose([\n",
    "    transforms.Resize((224, 224)),\n",
    "    transforms.ToTensor(),\n",
    "    transforms.Normalize([0.485, 0.456, 0.406],\n",
    "                         [0.229, 0.224, 0.225])\n",
    "])"
   ]
  },
  {
   "cell_type": "code",
   "execution_count": 29,
   "id": "c305ed87",
   "metadata": {},
   "outputs": [
    {
     "name": "stderr",
     "output_type": "stream",
     "text": [
      "c:\\Users\\asami\\anaconda3\\Lib\\site-packages\\torchvision\\models\\_utils.py:208: UserWarning: The parameter 'pretrained' is deprecated since 0.13 and may be removed in the future, please use 'weights' instead.\n",
      "  warnings.warn(\n",
      "c:\\Users\\asami\\anaconda3\\Lib\\site-packages\\torchvision\\models\\_utils.py:223: UserWarning: Arguments other than a weight enum or `None` for 'weights' are deprecated since 0.13 and may be removed in the future. The current behavior is equivalent to passing `weights=None`.\n",
      "  warnings.warn(msg)\n"
     ]
    },
    {
     "name": "stdout",
     "output_type": "stream",
     "text": [
      "Image enregistrée : 6\n",
      "Image enregistrée : 7\n",
      "Image enregistrée : 8\n",
      "Image enregistrée : 9\n",
      "Image enregistrée : 10\n",
      "Image enregistrée : 11\n",
      "Image enregistrée : 12\n",
      "Program exited\n"
     ]
    }
   ],
   "source": [
    "capture=cv2.VideoCapture(0,cv2.CAP_DSHOW)\n",
    "path=\"TestPhotos\"\n",
    "u=0\n",
    "\n",
    "modelPath=\"resNet50V1.pth\"\n",
    "trainingPath=\"CameraFaces\"\n",
    "trainingFile=os.listdir(trainingPath)\n",
    "device = torch.device(\"cpu\")\n",
    "model = models.resnet50(pretrained=False)\n",
    "#nb_classes=len(trainingFile)\n",
    "nb_classes=2\n",
    "model.fc=nn.Linear(model.fc.in_features,nb_classes)\n",
    "model.load_state_dict(torch.load(modelPath,map_location=device))\n",
    "model=model.to(device)\n",
    "model.eval()\n",
    "\n",
    "if not capture.isOpened():\n",
    "    print(\"Erreur : Impossible d'ouvrir la webcam\")\n",
    "else:\n",
    "    while True:\n",
    "        ret,frame=capture.read()\n",
    "\n",
    "        if not ret:\n",
    "            break\n",
    "\n",
    "        #frame=cv2.rotate(frame,cv2.ROTATE_90_CLOCKWISE)\n",
    "        faces=extract_face(frame)\n",
    "        if len(faces)!=0:\n",
    "            u+=1\n",
    "            for i,face in enumerate(faces):\n",
    "                x,y,w,h=face\n",
    "                crop=frame[y:y+h,x:x+w]\n",
    "                img_tensor=transform(Image.fromarray(crop)).unsqueeze(0).to(device)\n",
    "                with torch.no_grad():\n",
    "                        output=model(img_tensor)\n",
    "                        pred=torch.argmax(output,dim=1)\n",
    "                name=trainingFile[pred]\n",
    "                cv2.rectangle(frame,(x-2,y-2),(x+w+2,y+h+2),(0,255,255),2)\n",
    "                cv2.putText(frame,text=name,org=(x+w//4,y+h+30),fontFace=cv2.FONT_HERSHEY_SIMPLEX,fontScale=0.75,color=(255, 255, 255),thickness=1,lineType=cv2.LINE_AA)\n",
    "                if u>=30:\n",
    "                    u=0\n",
    "                    file=os.listdir(path)\n",
    "                    if f\"{path}/photo-{len(file)}.jpg\" not in file:\n",
    "                        cv2.imwrite(f\"{path}/photo-{len(file)}.jpg\",frame[y:y+h,x:x+w])\n",
    "                        print(f\"Image enregistrée : {len(file)}\")\n",
    "                cv2\n",
    "\n",
    "        cv2.imshow(\"Webcam\",frame)\n",
    "        if cv2.waitKey(1) & 0xFF==ord(\"q\"):\n",
    "            break\n",
    "\n",
    "capture.release()\n",
    "cv2.destroyAllWindows()\n",
    "print(\"Program exited\")"
   ]
  }
 ],
 "metadata": {
  "kernelspec": {
   "display_name": "base",
   "language": "python",
   "name": "python3"
  },
  "language_info": {
   "codemirror_mode": {
    "name": "ipython",
    "version": 3
   },
   "file_extension": ".py",
   "mimetype": "text/x-python",
   "name": "python",
   "nbconvert_exporter": "python",
   "pygments_lexer": "ipython3",
   "version": "3.12.4"
  }
 },
 "nbformat": 4,
 "nbformat_minor": 5
}
